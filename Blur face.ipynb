{
 "cells": [
  {
   "cell_type": "code",
   "execution_count": 1,
   "id": "30c95789",
   "metadata": {},
   "outputs": [],
   "source": [
    "import cv2"
   ]
  },
  {
   "cell_type": "code",
   "execution_count": null,
   "id": "83e84a54",
   "metadata": {},
   "outputs": [],
   "source": [
    "def detect_and_blur_faces():\n",
    "    # Load pre-trained face detection model from OpenCV\n",
    "    face_cascade = cv2.CascadeClassifier(cv2.data.haarcascades + 'haarcascade_frontalface_default.xml')\n",
    "\n",
    "    # Start video capture from default camera (change the index to use a different camera)\n",
    "    cap = cv2.VideoCapture(0)\n",
    "\n",
    "    while True:\n",
    "        # Read each frame from the video stream\n",
    "        ret, frame = cap.read()\n",
    "\n",
    "        # Convert the frame to grayscale (required for face detection)\n",
    "        gray = cv2.cvtColor(frame, cv2.COLOR_BGR2GRAY)\n",
    "\n",
    "        # Detect faces in the frame\n",
    "        faces = face_cascade.detectMultiScale(gray, scaleFactor=1.1, minNeighbors=5, minSize=(30, 30))\n",
    "\n",
    "        # Iterate through each detected face\n",
    "        for (x, y, w, h) in faces:\n",
    "            # Get the region of interest (ROI) where the face is present\n",
    "            face_roi = frame[y:y+h, x:x+w]\n",
    "\n",
    "            # Apply Gaussian blur to the face region\n",
    "            blurred_face = cv2.GaussianBlur(face_roi, (23, 23), 30)\n",
    "\n",
    "            # Replace the original face region with the blurred version\n",
    "            frame[y:y+h, x:x+w] = blurred_face\n",
    "\n",
    "            # Draw a rectangle around the detected face\n",
    "            cv2.rectangle(frame, (x, y), (x + w, y + h), (0, 255, 0), 2)\n",
    "\n",
    "        # Display the live video stream\n",
    "        cv2.imshow('Video Stream', frame)\n",
    "\n",
    "        # Stop capturing video if 'q' is pressed\n",
    "        if cv2.waitKey(1) & 0xFF == ord('q'):\n",
    "            break\n",
    "\n",
    "    # Release the video capture and close the window\n",
    "    cap.release()\n",
    "    cv2.destroyAllWindows()\n",
    "\n",
    "if __name__ == \"__main__\":\n",
    "    detect_and_blur_faces()\n",
    "\n",
    "\n"
   ]
  },
  {
   "cell_type": "code",
   "execution_count": null,
   "id": "2a51421f",
   "metadata": {},
   "outputs": [],
   "source": []
  }
 ],
 "metadata": {
  "kernelspec": {
   "display_name": "Python 3 (ipykernel)",
   "language": "python",
   "name": "python3"
  },
  "language_info": {
   "codemirror_mode": {
    "name": "ipython",
    "version": 3
   },
   "file_extension": ".py",
   "mimetype": "text/x-python",
   "name": "python",
   "nbconvert_exporter": "python",
   "pygments_lexer": "ipython3",
   "version": "3.11.3"
  }
 },
 "nbformat": 4,
 "nbformat_minor": 5
}
